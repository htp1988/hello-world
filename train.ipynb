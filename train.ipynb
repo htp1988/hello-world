{
 "cells": [
  {
   "cell_type": "code",
   "execution_count": 5,
   "id": "3ccca78f",
   "metadata": {
    "tags": []
   },
   "outputs": [],
   "source": [
    "import warnings\n",
    "warnings.filterwarnings('ignore')\n",
    "\n",
    "import pandas as pd\n",
    "import numpy as np\n",
    "import matplotlib.pyplot as plt\n",
    "plt.style.use('ggplot')\n",
    "plt.rcParams['figure.figsize'] = [15, 7]\n",
    "import seaborn as sns"
   ]
  },
  {
   "cell_type": "code",
   "execution_count": 6,
   "id": "f5c16eab",
   "metadata": {
    "tags": []
   },
   "outputs": [],
   "source": [
    "from jupyterthemes import get_themes\n",
    "import jupyterthemes as jt\n",
    "from jupyterthemes.stylefx import set_nb_theme"
   ]
  },
  {
   "cell_type": "code",
   "execution_count": 1,
   "id": "9596f72a",
   "metadata": {
    "tags": []
   },
   "outputs": [
    {
     "name": "stdout",
     "output_type": "stream",
     "text": [
      "1: [[449, 330, 571, 479]]\n",
      "2: [[361, 98, 624, 437]]\n",
      "3: [[78, 221, 85, 229], [78, 238, 92, 255], [113, 212, 124, 227], [134, 260, 149, 275], [163, 250, 177, 267], [201, 218, 211, 230], [182, 266, 197, 283], [245, 279, 263, 294], [304, 265, 320, 282], [328, 295, 344, 315], [389, 281, 406, 300], [406, 293, 427, 314], [436, 290, 458, 307], [522, 328, 543, 346], [643, 320, 666, 342], [653, 224, 670, 249], [793, 337, 816, 367], [535, 311, 551, 328], [29, 220, 40, 235], [3, 232, 14, 247], [20, 215, 32, 231]]\n"
     ]
    }
   ],
   "source": [
    "import cv2\n",
    "from glob import glob\n",
    "import torch\n",
    "\n",
    "with open('./WIDER/wider_face_train_bbx_gt.txt', 'r') as file:\n",
    "    lines = file.readlines()\n",
    "\n",
    "image_paths = []\n",
    "n_objects = []\n",
    "\n",
    "img_index = line_index = 0\n",
    "bboxes_dict = {}\n",
    "\n",
    "while line_index < len(lines):\n",
    "    image_path = lines[line_index].strip()\n",
    "    line_index += 1\n",
    "\n",
    "    objects_line = lines[line_index].strip()\n",
    "    num_objects = int(objects_line)\n",
    "    line_index += 1\n",
    "    \n",
    "    objects = []\n",
    "    truth = []\n",
    "    if num_objects == 0:\n",
    "        object_info = lines[line_index].strip().split(' ')\n",
    "        object_info = [int(i)for i in object_info]\n",
    "        truth.append(object_info)\n",
    "        line_index += 1\n",
    "    else:\n",
    "        for _ in range(num_objects):\n",
    "            object_coordinates = lines[line_index].strip().split(' ')\n",
    "            object_coordinates = [int(object_coordinates[i]) for i in range(4)]\n",
    "            object_coordinates[2] = object_coordinates[2] + object_coordinates[0]\n",
    "            object_coordinates[3] = object_coordinates[3] + object_coordinates[1]\n",
    "            truth.append(object_coordinates)\n",
    "            line_index += 1\n",
    "    \n",
    "    img_index += 1\n",
    "    \n",
    "    bboxes_dict[img_index] = truth\n",
    "    image_paths.append(image_path)\n",
    "    n_objects.append(num_objects)\n",
    "    \n",
    "for i in range(3):\n",
    "    print(f'{i + 1}: {bboxes_dict[i + 1]}')"
   ]
  },
  {
   "cell_type": "code",
   "execution_count": 176,
   "id": "ebb947ce",
   "metadata": {},
   "outputs": [],
   "source": [
    "def scale_bbox(bbox, image, o_shape):\n",
    "    W, H, C = o_shape\n",
    "    w, h, c = image.shape\n",
    "    Wratio = w/W\n",
    "    Hratio = h/H\n",
    "    ratioList = [Hratio, Wratio, Hratio, Wratio]\n",
    "    bbox = [int(a * b) for a, b in zip(bbox, ratioList)]\n",
    "    return bbox\n",
    "\n",
    "# Function that returns redefined bbox\n",
    "def function(image, bboxs, base=512):\n",
    "    H, W, C = image.shape\n",
    "    if H > W:\n",
    "        height_persentage = float(base/H)\n",
    "        width_size = int(W*height_persentage)\n",
    "        resized_image = cv2.resize(image, (width_size, base), interpolation=cv2.INTER_CUBIC)\n",
    "        h, w, c = resized_image.shape\n",
    "        bbox = scale_bbox(bboxs, resized_image, (H, W, C))\n",
    "        width1 = (base - w) // 2\n",
    "        width2 = (base - w) - width1\n",
    "        bbox = [bbox[0]+width1, bbox[1], bbox[2]+width2, bbox[3]]\n",
    "        \n",
    "        # Symmetric Padding\n",
    "        mask = np.array(np.zeros(shape=(base, width1, C)), dtype=int)\n",
    "        resized_image = np.concatenate((resized_image, mask), axis=1)\n",
    "\n",
    "        mask = np.array(np.zeros(shape=(base, width2, C)), dtype=int)\n",
    "        resized_image = np.concatenate((mask, resized_image), axis=1)\n",
    "        # display(resized_image, bbox)\n",
    "        \n",
    "    else:\n",
    "        width_percentage = float(base/W)\n",
    "        height_size = int(H*width_percentage)\n",
    "        resized_image = cv2.resize(image, (base, height_size), interpolation=cv2.INTER_CUBIC)\n",
    "        h, w, c = resized_image.shape\n",
    "        bbox = scale_bbox(bboxs, resized_image, (H, W, C))\n",
    "        height1 = (base - h) // 2\n",
    "        height2 = (base - h) - height1\n",
    "        bbox = [bbox[0], bbox[1]+height1, bbox[2], bbox[3]+height2]\n",
    "        \n",
    "        # Symmetric Padding\n",
    "        mask = np.array(np.zeros(shape=(height1, base, C)), dtype=int)\n",
    "        resized_image = np.concatenate((resized_image, mask))\n",
    "        \n",
    "        mask = np.array(np.zeros(shape=(height2, base, C)), dtype=int)\n",
    "        resized_image = np.concatenate((mask, resized_image))\n",
    "        # display(resized_image, bbox)\n",
    "    \n",
    "    return bbox"
   ]
  },
  {
   "cell_type": "code",
   "execution_count": 180,
   "id": "dd736237",
   "metadata": {},
   "outputs": [
    {
     "name": "stderr",
     "output_type": "stream",
     "text": [
      "100%|██████████| 12880/12880 [12:56<00:00, 16.60it/s] \n"
     ]
    }
   ],
   "source": [
    "import tqdm\n",
    "from PIL import Image\n",
    "\n",
    "device = torch.device('cuda' if torch.cuda.is_available() else 'cpu')\n",
    "redefined_bboxes = []\n",
    "\n",
    "for idx in tqdm.trange(len(image_paths)):\n",
    "    image = np.array(Image.open('./WIDER/WIDER_train/' + image_paths[idx]).convert(\"RGB\"))\n",
    "    \n",
    "    for value in bboxes_dict[idx + 1]:\n",
    "        bbox = np.array(value[:4])\n",
    "        bbox = function(image, bbox)\n",
    "        redefined_bboxes.append(bbox)\n",
    "            \n",
    "redefined_bboxes = torch.tensor(redefined_bboxes, dtype=torch.float)"
   ]
  },
  {
   "cell_type": "code",
   "execution_count": 181,
   "id": "d3f07580",
   "metadata": {},
   "outputs": [
    {
     "data": {
      "text/plain": [
       "torch.Size([159424, 4])"
      ]
     },
     "execution_count": 181,
     "metadata": {},
     "output_type": "execute_result"
    }
   ],
   "source": [
    "redefined_bboxes.shape"
   ]
  },
  {
   "cell_type": "code",
   "execution_count": 182,
   "id": "daaf6cb0",
   "metadata": {},
   "outputs": [],
   "source": [
    "from torchvision.ops import box_iou\n",
    "from sklearn.cluster import KMeans\n",
    "\n",
    "def kmeans_sklearn(bboxes, k):\n",
    "    kmeans = KMeans(n_clusters=k)\n",
    "    kmeans.fit(bboxes)\n",
    "    clusters = kmeans.cluster_centers_\n",
    "    distances = kmeans.transform(bboxes)\n",
    "    return clusters, distances"
   ]
  },
  {
   "cell_type": "code",
   "execution_count": 185,
   "id": "476b5999",
   "metadata": {},
   "outputs": [
    {
     "data": {
      "text/plain": [
       "Text(0, 0.5, 'IoU score')"
      ]
     },
     "execution_count": 185,
     "metadata": {},
     "output_type": "execute_result"
    },
    {
     "data": {
      "image/png": "[encoded data removed]",
      "text/plain": [
       "<Figure size 1500x700 with 1 Axes>"
      ]
     },
     "metadata": {},
     "output_type": "display_data"
    }
   ],
   "source": [
    "clusterList = [1, 2, 3, 4, 5, 6, 7, 8, 9, 10]\n",
    "mean_distances, anchorBoxes = [], []\n",
    "\n",
    "for cluster_k in clusterList:\n",
    "    redefined_bboxes = torch.tensor(redefined_bboxes, dtype=torch.float)\n",
    "    anchors, distances = kmeans_sklearn(redefined_bboxes, k=cluster_k)\n",
    "    distances = torch.tensor(distances)\n",
    "    indxs = torch.argmax(distances, dim=1)\n",
    "    filtered_distances = []\n",
    "    for i, distance in enumerate(distances):\n",
    "        filtered_distances.append(distance[indxs[i]].item())\n",
    "    mean_distances.append(np.mean(filtered_distances))\n",
    "    anchorBoxes.append(anchors)\n",
    "    \n",
    "plt.plot(clusterList, mean_distances)\n",
    "plt.scatter(clusterList, mean_distances)\n",
    "plt.title(\"Mean IoU Score\")\n",
    "plt.xlabel(\"Number of clusters\")\n",
    "plt.ylabel(\"IoU score\")"
   ]
  },
  {
   "cell_type": "code",
   "execution_count": 186,
   "id": "81f4e24a",
   "metadata": {},
   "outputs": [],
   "source": [
    "anchors, distances = kmeans_sklearn(redefined_bboxes, k=10)"
   ]
  },
  {
   "cell_type": "code",
   "execution_count": 187,
   "id": "8777fb6d",
   "metadata": {
    "scrolled": true
   },
   "outputs": [
    {
     "data": {
      "text/plain": [
       "array([[333.10672154, 119.7851166 , 348.52119342, 140.03628258],\n",
       "       [149.20741758, 223.09574685, 162.35286935, 240.18513431],\n",
       "       [427.85801553, 314.13491579, 438.17820054, 327.5980452 ],\n",
       "       [348.06686284, 232.90676257, 360.799248  , 249.43915863],\n",
       "       [ 59.80412135, 158.04001145,  70.83531769, 172.62856325],\n",
       "       [190.08694496, 111.50458655, 207.50279181, 134.30836214],\n",
       "       [247.52186674, 200.31635848, 268.2633304 , 227.59343508],\n",
       "       [ 64.32676098, 296.66715532,  74.29934765, 309.72711281],\n",
       "       [448.09446717, 174.32333561, 459.0236878 , 188.91689389],\n",
       "       [237.23686801, 329.78845638, 249.03642058, 344.7649217 ]])"
      ]
     },
     "execution_count": 187,
     "metadata": {},
     "output_type": "execute_result"
    }
   ],
   "source": [
    "anchors"
   ]
  }
 ],
 "metadata": {
  "celltoolbar": "Raw Cell Format",
  "kernelspec": {
   "display_name": "cuda_env",
   "language": "python",
   "name": "cuda_env"
  },
  "language_info": {
   "codemirror_mode": {
    "name": "ipython",
    "version": 3
   },
   "file_extension": ".py",
   "mimetype": "text/x-python",
   "name": "python",
   "nbconvert_exporter": "python",
   "pygments_lexer": "ipython3",
   "version": "3.9.16"
  }
 },
 "nbformat": 4,
 "nbformat_minor": 5
}
